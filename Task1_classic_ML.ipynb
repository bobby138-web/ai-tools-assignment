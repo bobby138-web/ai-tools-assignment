{
 "cells": [
  {
   "cell_type": "code",
   "execution_count": null,
   "id": "8042f6bf",
   "metadata": {},
   "outputs": [],
   "source": [
    "#Task 1: Classical ML with Scikit-learn (Iris Dataset)\n",
    "\n",
    "# 1. Import libraries\n",
    "import pandas as pd\n",
    "from sklearn.datasets import load_iris\n",
    "from sklearn.model_selection import train_test_split\n",
    "from sklearn.tree import DecisionTreeClassifier\n",
    "from sklearn.metrics import accuracy_score, precision_score, recall_score\n",
    "from sklearn.preprocessing import LabelEncoder"
   ]
  },
  {
   "cell_type": "code",
   "execution_count": null,
   "id": "fca43821",
   "metadata": {},
   "outputs": [],
   "source": [
    "# 2. Load the dataset\n",
    "iris = load_iris()\n",
    "df = pd.DataFrame(data=iris.data, columns=iris.feature_names)\n",
    "df['species'] = iris.target"
   ]
  },
  {
   "cell_type": "code",
   "execution_count": null,
   "id": "234bd7b7",
   "metadata": {},
   "outputs": [],
   "source": [
    "# 3. Check for missing values\n",
    "print(df.isnull().sum())  # No missing values in iris dataset\n",
    "# If there were missing values:\n",
    "# df.fillna(df.mean(), inplace=True)"
   ]
  },
  {
   "cell_type": "code",
   "execution_count": null,
   "id": "4be5c441",
   "metadata": {},
   "outputs": [],
   "source": [
    "le = LabelEncoder()\n",
    "df['species'] = le.fit_transform(df['species'])"
   ]
  },
  {
   "cell_type": "code",
   "execution_count": null,
   "id": "9cecffe5",
   "metadata": {},
   "outputs": [],
   "source": [
    "# 5. Split data into training and testing sets\n",
    "X = df.drop('species', axis=1)\n",
    "y = df['species']\n",
    "X_train, X_test, y_train, y_test = train_test_split(X, y, test_size=0.2, random_state=42)\n"
   ]
  },
  {
   "cell_type": "code",
   "execution_count": null,
   "id": "5142d49e",
   "metadata": {},
   "outputs": [],
   "source": [
    "# 6. Train a Decision Tree Classifier\n",
    "model = DecisionTreeClassifier(random_state=42)\n",
    "model.fit(X_train, y_train)"
   ]
  },
  {
   "cell_type": "code",
   "execution_count": null,
   "id": "fb194b00",
   "metadata": {},
   "outputs": [],
   "source": [
    "# 7. Make predictions\n",
    "y_pred = model.predict(X_test)"
   ]
  },
  {
   "cell_type": "code",
   "execution_count": null,
   "id": "88016c69",
   "metadata": {},
   "outputs": [],
   "source": [
    "# 8. Evaluate the model\n",
    "print(\"Accuracy:\", accuracy_score(y_test, y_pred))\n",
    "print(\"Precision:\", precision_score(y_test, y_pred, average='macro'))\n",
    "print(\"Recall:\", recall_score(y_test, y_pred, average='macro'))"
   ]
  }
 ],
 "metadata": {
  "language_info": {
   "name": "python"
  }
 },
 "nbformat": 4,
 "nbformat_minor": 5
}
