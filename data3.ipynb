{
 "cells": [
  {
   "cell_type": "code",
   "execution_count": null,
   "id": "1734d5ad",
   "metadata": {},
   "outputs": [],
   "source": [
    "# Task 3: NLP with spaCy\n",
    "# -----------------------\n",
    "import spacy\n",
    "from textblob import TextBlob"
   ]
  },
  {
   "cell_type": "code",
   "execution_count": null,
   "id": "5cbcd75c",
   "metadata": {},
   "outputs": [],
   "source": [
    "# 1. Load spaCy model\n",
    "nlp = spacy.load(\"en_core_web_sm\")\n"
   ]
  },
  {
   "cell_type": "code",
   "execution_count": null,
   "id": "5b4030b1",
   "metadata": {},
   "outputs": [],
   "source": [
    "# 2. Sample reviews\n",
    "reviews = [\n",
    "    \"I love the new Apple iPhone 14! The camera is amazing.\",\n",
    "    \"Samsung Galaxy phone battery dies too fast.\",\n",
    "    \"The Sony headphones are okay but overpriced.\"\n",
    "]"
   ]
  },
  {
   "cell_type": "code",
   "execution_count": null,
   "id": "ddb65fcd",
   "metadata": {},
   "outputs": [],
   "source": [
    "# 3. Named Entity Recognition + Sentiment\n",
    "for review in reviews:\n",
    "    doc = nlp(review)\n",
    "    print(f\"\\nReview: {review}\")\n",
    "    print(\"Entities:\", [(ent.text, ent.label_) for ent in doc.ents])\n",
    "    \n",
    "   "
   ]
  },
  {
   "cell_type": "code",
   "execution_count": null,
   "id": "826718bc",
   "metadata": {},
   "outputs": [],
   "source": [
    "# Sentiment using TextBlob (rule-based)\n",
    "    sentiment = TextBlob(review).sentiment.polarity\n",
    "    if sentiment > 0:\n",
    "        print(\"Sentiment: Positive 😊\")\n",
    "    elif sentiment < 0:\n",
    "        print(\"Sentiment: Negative 😠\")\n",
    "    else:\n",
    "        print(\"Sentiment: Neutral 😐\")"
   ]
  }
 ],
 "metadata": {
  "language_info": {
   "name": "python"
  }
 },
 "nbformat": 4,
 "nbformat_minor": 5
}
