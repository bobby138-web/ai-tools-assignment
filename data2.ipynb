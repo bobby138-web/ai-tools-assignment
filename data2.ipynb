{
 "cells": [
  {
   "cell_type": "code",
   "execution_count": null,
   "id": "ae820f5f",
   "metadata": {},
   "outputs": [],
   "source": [
    "# Task 2: Deep Learning with TensorFlow (CNN for MNIST)\n",
    "# -----------------------------------------------------\n",
    "import tensorflow as tf\n",
    "from tensorflow.keras import layers, models\n",
    "import matplotlib.pyplot as plt"
   ]
  },
  {
   "cell_type": "code",
   "execution_count": null,
   "id": "27ac4ad1",
   "metadata": {},
   "outputs": [],
   "source": [
    "# 1. Load dataset\n",
    "(X_train, y_train), (X_test, y_test) = tf.keras.datasets.mnist.load_data()"
   ]
  },
  {
   "cell_type": "code",
   "execution_count": null,
   "id": "9ba6a70b",
   "metadata": {},
   "outputs": [],
   "source": [
    "# 2. Preprocess data\n",
    "X_train = X_train.reshape(-1, 28, 28, 1).astype('float32') / 255.0\n",
    "X_test = X_test.reshape(-1, 28, 28, 1).astype('float32') / 255.0\n"
   ]
  },
  {
   "cell_type": "code",
   "execution_count": null,
   "id": "a43c341f",
   "metadata": {},
   "outputs": [],
   "source": [
    "# 3. Build CNN model\n",
    "model = models.Sequential([\n",
    "    layers.Conv2D(32, (3,3), activation='relu', input_shape=(28,28,1)),\n",
    "    layers.MaxPooling2D(2,2),\n",
    "    layers.Conv2D(64, (3,3), activation='relu'),\n",
    "    layers.MaxPooling2D(2,2),\n",
    "    layers.Flatten(),\n",
    "    layers.Dense(128, activation='relu'),\n",
    "    layers.Dense(10, activation='softmax')\n",
    "])"
   ]
  },
  {
   "cell_type": "code",
   "execution_count": null,
   "id": "a1196c7b",
   "metadata": {},
   "outputs": [],
   "source": [
    "# 4. Compile\n",
    "model.compile(optimizer='adam',\n",
    "              loss='sparse_categorical_crossentropy',\n",
    "              metrics=['accuracy'])\n"
   ]
  },
  {
   "cell_type": "code",
   "execution_count": null,
   "id": "db667d4e",
   "metadata": {},
   "outputs": [],
   "source": [
    "# 5. Train\n",
    "history = model.fit(X_train, y_train, epochs=5, validation_split=0.1, verbose=2)\n"
   ]
  },
  {
   "cell_type": "code",
   "execution_count": null,
   "id": "6accfff3",
   "metadata": {},
   "outputs": [],
   "source": [
    "# 6. Evaluate\n",
    "test_loss, test_acc = model.evaluate(X_test, y_test)\n",
    "print(f\"Test Accuracy: {test_acc*100:.2f}%\")\n"
   ]
  },
  {
   "cell_type": "code",
   "execution_count": null,
   "id": "fcdda48b",
   "metadata": {},
   "outputs": [],
   "source": [
    "# 7. Visualize predictions\n",
    "predictions = model.predict(X_test[:5])\n",
    "plt.figure(figsize=(10,2))\n",
    "for i in range(5):\n",
    "    plt.subplot(1,5,i+1)\n",
    "    plt.imshow(X_test[i].reshape(28,28), cmap='gray')\n",
    "    plt.title(f\"Pred: {predictions[i].argmax()}\\nTrue: {y_test[i]}\")\n",
    "    plt.axis('off')\n",
    "plt.show()"
   ]
  }
 ],
 "metadata": {
  "language_info": {
   "name": "python"
  }
 },
 "nbformat": 4,
 "nbformat_minor": 5
}
